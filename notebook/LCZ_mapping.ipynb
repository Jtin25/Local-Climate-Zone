{
 "cells": [
  {
   "cell_type": "code",
   "execution_count": 30,
   "metadata": {},
   "outputs": [],
   "source": [
    "import arcpy\n",
    "import pandas as pd\n",
    "import numpy as np\n",
    "from arcpy.ia import *\n",
    "from arcpy.sa import *"
   ]
  },
  {
   "cell_type": "code",
   "execution_count": 2,
   "metadata": {},
   "outputs": [],
   "source": [
    "# Set the workspace environment\n",
    "arcpy.env.workspace = r\"C:\\Users\\Justin_Tse\\Documents\\ArcGIS\\Projects\\Denton_sensor\\Denton_sensor.gdb\"\n",
    "arcpy.env.outputCoordinateSystem = arcpy.SpatialReference(26914)\n",
    "arcpy.env.extent = r\"C:\\Users\\Justin_Tse\\Desktop\\Denton Sensors\\DT_LULC_utm.tif\"\n",
    "arcpy.env.mask = r\"C:\\Users\\Justin_Tse\\Desktop\\Denton Sensors\\DT_LULC_utm.tif\""
   ]
  },
  {
   "cell_type": "code",
   "execution_count": 82,
   "metadata": {},
   "outputs": [],
   "source": [
    "# function to convert dbf to df\n",
    "def table_to_df(table_name):\n",
    "    fields = [f.name for f in arcpy.ListFields(table_name) if f.type not in ['Geometry']]\n",
    "    array = arcpy.da.TableToNumPyArray(table_name, fields)\n",
    "    return pd.DataFrame(array)"
   ]
  },
  {
   "cell_type": "markdown",
   "metadata": {},
   "source": [
    "## LCZ mapping\n",
    "1. reclassify LULC into pervious(0) vs impervious(1)\n",
    "2. Overlay building height to classify building types\n",
    "3. Create a 100m grid\n",
    "4. Reclassify LULC to get building (1) vs non-building (0); Reclassify LULC to get pervious (1) vs impervious (0;, Reclassify LULC to get tree (1) vs non-tree (0)\n",
    "5. Zonal Statistic to get the PSF\n",
    "6. Zonal Statistic to get the BSF\n",
    "7. Zonal Statistic to get the TF\n",
    "8. Zonal Statistic to get the mean building height\n",
    "9. Convert building polygons and zonal statistic to get the maximum building footprint\n",
    "10. Spatial join to join building polygons to grid\n",
    "11. combine all table together and merge it to the grid feature class\n",
    "12. Define modified standard rules to classify the cells"
   ]
  },
  {
   "cell_type": "code",
   "execution_count": 34,
   "metadata": {},
   "outputs": [
    {
     "data": {
      "text/html": [
       "<div class='gpresult'><h2>Messages</h2><div id='messages'>Start Time: Thursday, October 10, 2024 11:34:52 PM<br>Succeeded at Friday, October 11, 2024 12:06:43 AM (Elapsed Time: 31 minutes 51 seconds)<br></div><div id = 'default' /></div></div>"
      ],
      "text/plain": [
       "<Result 'C:\\\\Users\\\\Justin_Tse\\\\Documents\\\\ArcGIS\\\\Projects\\\\Denton_sensor\\\\Denton_sensor.gdb\\\\grid100M'>"
      ]
     },
     "execution_count": 34,
     "metadata": {},
     "output_type": "execute_result"
    }
   ],
   "source": [
    "# Create a 100m x 100m grid\n",
    "expression = \"NAME10 = 'Denton'\"\n",
    "arcpy.SelectLayerByAttribute_management(\"Texas_Counties\", \"NEW_SELECTION\", expression)\n",
    "arcpy.GridIndexFeatures_cartography(\"grid100M\",\"Texas_Counties\", \"\", \"\", \"\",\"100 meters\", \"100 meters\")"
   ]
  },
  {
   "cell_type": "code",
   "execution_count": 93,
   "metadata": {
    "scrolled": true
   },
   "outputs": [],
   "source": [
    "# pervious Raster\n",
    "pervious = Reclassify(r\"C:\\Users\\Justin_Tse\\Documents\\ArcGIS\\Projects\\Denton_sensor\\Denton_sensor.gdb\\DT_LULC_utm\",\n",
    "             \"Value\",\n",
    "             RemapValue([[0,0],[1,1],[2,1],[3,0],[4,1],[5,1],[6,0],[7,1],[8,0]]))\n",
    "pervious.save(\"DT_LULC_perious\")"
   ]
  },
  {
   "cell_type": "code",
   "execution_count": 12,
   "metadata": {},
   "outputs": [],
   "source": [
    "# Building Raster\n",
    "building = Reclassify(r\"C:\\Users\\Justin_Tse\\Documents\\ArcGIS\\Projects\\Denton_sensor\\Denton_sensor.gdb\\DT_LULC_utm\",\n",
    "             \"Value\",\n",
    "             RemapValue([[0,1],[1,0],[2,0],[3,0],[4,0],[5,0],[6,0],[7,0],[8,0]]))\n",
    "building.save(\"DT_LULC_building\")"
   ]
  },
  {
   "cell_type": "code",
   "execution_count": 57,
   "metadata": {},
   "outputs": [],
   "source": [
    "# Tree Raster\n",
    "tree = Reclassify(r\"C:\\Users\\Justin_Tse\\Documents\\ArcGIS\\Projects\\Denton_sensor\\Denton_sensor.gdb\\DT_LULC_utm\",\n",
    "             \"Value\",\n",
    "             RemapValue([[0,0],[1,1],[2,0],[3,0],[4,0],[5,0],[6,0],[7,0],[8,0]]))\n",
    "tree.save(\"DT_LULC_trees\")"
   ]
  },
  {
   "cell_type": "code",
   "execution_count": 94,
   "metadata": {},
   "outputs": [],
   "source": [
    "# calculate pervious surface area\n",
    "PSF = ZonalStatisticsAsTable(\"grid100M\", \"PageName\", pervious, \"PSF\", \"DATA\", \"SUM\")"
   ]
  },
  {
   "cell_type": "code",
   "execution_count": 95,
   "metadata": {},
   "outputs": [
    {
     "data": {
      "text/html": [
       "<div class='gpresult'><h2>Messages</h2><div id='messages'>Start Time: Tuesday, October 15, 2024 9:17:16 AM<br>Succeeded at Tuesday, October 15, 2024 9:17:20 AM (Elapsed Time: 3.79 seconds)<br></div><div id = 'default' /></div></div>"
      ],
      "text/plain": [
       "<Result 'C:\\\\Users\\\\Justin_Tse\\\\Documents\\\\ArcGIS\\\\Projects\\\\Denton_sensor\\\\Denton_sensor.gdb\\\\PSF'>"
      ]
     },
     "execution_count": 95,
     "metadata": {},
     "output_type": "execute_result"
    }
   ],
   "source": [
    "# standardize it to fraction\n",
    "arcpy.management.AddField(PSF, \"PSF\", \"double\", \n",
    "                          field_length=20)\n",
    "arcpy.management.CalculateField(PSF, \"PSF\", \n",
    "                                '!SUM! / 100', \"PYTHON3\")"
   ]
  },
  {
   "cell_type": "code",
   "execution_count": 14,
   "metadata": {},
   "outputs": [],
   "source": [
    "# calculate building surfaec area\n",
    "BSF = ZonalStatisticsAsTable(\"grid100M\", \"PageName\", building, \"BSF\", \"DATA\", \"SUM\")"
   ]
  },
  {
   "cell_type": "code",
   "execution_count": 18,
   "metadata": {},
   "outputs": [
    {
     "data": {
      "text/html": [
       "<div class='gpresult'><h2>Messages</h2><div id='messages'>Start Time: Friday, October 11, 2024 4:41:15 PM<br>Succeeded at Friday, October 11, 2024 4:41:19 PM (Elapsed Time: 3.70 seconds)<br></div><div id = 'default' /></div></div>"
      ],
      "text/plain": [
       "<Result 'C:\\\\Users\\\\Justin_Tse\\\\Documents\\\\ArcGIS\\\\Projects\\\\Denton_sensor\\\\Denton_sensor.gdb\\\\BSF'>"
      ]
     },
     "execution_count": 18,
     "metadata": {},
     "output_type": "execute_result"
    }
   ],
   "source": [
    "# standardize it to fraction\n",
    "arcpy.management.AddField(BSF, \"BSF\", \"double\", field_length=20)\n",
    "arcpy.management.CalculateField(BSF, \"BSF\",'!SUM! / 100', \"PYTHON3\")"
   ]
  },
  {
   "cell_type": "code",
   "execution_count": 58,
   "metadata": {},
   "outputs": [],
   "source": [
    "# calculate tree canopy area in each zone\n",
    "TF = ZonalStatisticsAsTable(\"grid100M\", \"PageName\", tree, \"TF\", \"DATA\", \"SUM\")"
   ]
  },
  {
   "cell_type": "code",
   "execution_count": 59,
   "metadata": {},
   "outputs": [
    {
     "data": {
      "text/html": [
       "<div class='gpresult'><h2>Messages</h2><div id='messages'>Start Time: Monday, October 14, 2024 5:51:49 PM<br>Succeeded at Monday, October 14, 2024 5:51:53 PM (Elapsed Time: 3.92 seconds)<br></div><div id = 'default' /></div></div>"
      ],
      "text/plain": [
       "<Result 'C:\\\\Users\\\\Justin_Tse\\\\Documents\\\\ArcGIS\\\\Projects\\\\Denton_sensor\\\\Denton_sensor.gdb\\\\TF'>"
      ]
     },
     "execution_count": 59,
     "metadata": {},
     "output_type": "execute_result"
    }
   ],
   "source": [
    "# standardize it to fraction\n",
    "arcpy.management.AddField(TF, \"TF\", \"double\", field_length=20)\n",
    "arcpy.management.CalculateField(TF, \"TF\", '!SUM! / 100', \"PYTHON3\")"
   ]
  },
  {
   "cell_type": "code",
   "execution_count": 42,
   "metadata": {},
   "outputs": [],
   "source": [
    "# get the marjority land cover in each cell\n",
    "majorland = ZonalStatisticsAsTable(\"grid100M\", \"PageName\", \"DT_LULC_utm\", \"majorland\", \"DATA\", \"MAJORITY\")"
   ]
  },
  {
   "cell_type": "code",
   "execution_count": 67,
   "metadata": {},
   "outputs": [
    {
     "data": {
      "text/html": [
       "<div class='gpresult'><h2>Messages</h2><div id='messages'>Start Time: Saturday, October 19, 2024 11:23:35 PM<br>WARNING 000405: No records within table, or selection set has 0 records.<br>Succeeded at Saturday, October 19, 2024 11:23:35 PM (Elapsed Time: 0.35 seconds)<br></div><div id = 'default' /></div></div>"
      ],
      "text/plain": [
       "<Result 'majorland'>"
      ]
     },
     "execution_count": 67,
     "metadata": {},
     "output_type": "execute_result"
    }
   ],
   "source": [
    "arcpy.management.AddField(\"majorland\", \"LULC\", \"double\", field_length=20)\n",
    "arcpy.management.CalculateField(\"majorland\", \"LULC\", '!MAJORITY!', \"PYTHON3\")"
   ]
  },
  {
   "cell_type": "code",
   "execution_count": 17,
   "metadata": {},
   "outputs": [],
   "source": [
    "expression = \"Value <> 0\"\n",
    "arcpy.SelectLayerByAttribute_management(\"DentonCounty_CompleteBuildings_int.tif\", \"NEW_SELECTION\", expression)\n",
    "MBH = ZonalStatisticsAsTable(\"grid100M\", \"PageName\", \"DentonCounty_CompleteBuildings_int.tif\",\n",
    "                                  \"MBH\", \"DATA\", \"MEAN\")\n",
    "arcpy.SelectLayerByAttribute_management(\"DentonCounty_CompleteBuildings_int.tif\", \"CLEAR_SELECTION\")"
   ]
  },
  {
   "cell_type": "code",
   "execution_count": 35,
   "metadata": {},
   "outputs": [
    {
     "data": {
      "text/html": [
       "<div class='gpresult'><h2>Messages</h2><div id='messages'>Start Time: Friday, October 18, 2024 5:19:55 PM<br>Succeeded at Friday, October 18, 2024 5:20:04 PM (Elapsed Time: 8.47 seconds)<br></div><div id = 'default' /></div></div>"
      ],
      "text/plain": [
       "<Result 'C:\\\\Users\\\\Justin_Tse\\\\Documents\\\\ArcGIS\\\\Projects\\\\Denton_sensor\\\\Denton_sensor.gdb\\\\DentonBFP_utm'>"
      ]
     },
     "execution_count": 35,
     "metadata": {},
     "output_type": "execute_result"
    }
   ],
   "source": [
    "BFP = r\"C:\\Users\\Justin_Tse\\Documents\\ArcGIS\\Projects\\Denton_sensor\\Denton_sensor.gdb\\DentonBFP_utm\"\n",
    "arcpy.management.AddField(BFP, \"BA\", \"double\", field_length=20)\n",
    "arcpy.management.CalculateGeometryAttributes(\n",
    "    BFP, \n",
    "    [[\"BA\", \"AREA\"]],\n",
    "    area_unit=\"SQUARE_METERS\")"
   ]
  },
  {
   "cell_type": "code",
   "execution_count": 150,
   "metadata": {},
   "outputs": [
    {
     "data": {
      "text/html": [
       "<div class='gpresult'><h2>Messages</h2><div id='messages'>Start Time: Tuesday, October 22, 2024 10:44:26 PM<br>Succeeded at Tuesday, October 22, 2024 10:45:46 PM (Elapsed Time: 1 minutes 20 seconds)<br></div><div id = 'default' /></div></div>"
      ],
      "text/plain": [
       "<Result 'C:\\\\Users\\\\Justin_Tse\\\\Documents\\\\ArcGIS\\\\Projects\\\\Denton_sensor\\\\Denton_sensor.gdb\\\\DentonLB_rast'>"
      ]
     },
     "execution_count": 150,
     "metadata": {},
     "output_type": "execute_result"
    }
   ],
   "source": [
    "# Run PolygonToRaster\n",
    "arcpy.conversion.PolygonToRaster(\"DentonBFP_utm\", \"BA\", r\"C:\\Users\\Justin_Tse\\Documents\\ArcGIS\\Projects\\Denton_sensor\\Denton_sensor.gdb\\DentonLB_rast\", \n",
    "                                 \"MAXIMUM_AREA\", \"BA\", 1)"
   ]
  },
  {
   "cell_type": "code",
   "execution_count": 47,
   "metadata": {},
   "outputs": [],
   "source": [
    "# get the max of building footprint area in each grid cell\n",
    "LBF = ZonalStatisticsAsTable(\"grid100M\", \"PageName\", \"DentonLB_rast\", \"LBF\", \"DATA\", \"MAX\")"
   ]
  },
  {
   "cell_type": "code",
   "execution_count": 125,
   "metadata": {},
   "outputs": [
    {
     "data": {
      "text/html": [
       "<div class='gpresult'><h2>Messages</h2><div id='messages'>Start Time: Tuesday, October 22, 2024 9:40:17 PM<br>Succeeded at Tuesday, October 22, 2024 9:40:26 PM (Elapsed Time: 9.39 seconds)<br></div><div id = 'default' /></div></div>"
      ],
      "text/plain": [
       "<Result 'C:\\\\Users\\\\Justin_Tse\\\\Documents\\\\ArcGIS\\\\Projects\\\\Denton_sensor\\\\Denton_sensor.gdb\\\\Build_SJ'>"
      ]
     },
     "execution_count": 125,
     "metadata": {},
     "output_type": "execute_result"
    }
   ],
   "source": [
    "target_features = r\"C:\\Users\\Justin_Tse\\Documents\\ArcGIS\\Projects\\Denton_sensor\\Denton_sensor.gdb\\grid100M\"\n",
    "join_features = r\"C:\\Users\\Justin_Tse\\Documents\\ArcGIS\\Projects\\Denton_sensor\\Denton_sensor.gdb\\DentonBFP_utm\"\n",
    "arcpy.analysis.SpatialJoin(target_features, join_features, \"Build_SJ\", \"JOIN_ONE_TO_ONE\", \"KEEP_COMMON\", \"\", \"INTERSECT\")"
   ]
  },
  {
   "cell_type": "code",
   "execution_count": 128,
   "metadata": {},
   "outputs": [
    {
     "name": "stdout",
     "output_type": "stream",
     "text": [
      "       PageName   BSF      MEAN  MAJORITY  ...     GF    PSF         MAX  Join_Count\n",
      "0       EKA9180  0.00       NaN       2.0  ...   6.94  13.25         NaN         NaN\n",
      "1       EKA9181  0.00       NaN       1.0  ...   5.09  20.92         NaN         NaN\n",
      "2       EKA9182  0.00       NaN       2.0  ...  19.96  23.76         NaN         NaN\n",
      "3       EKA9183  0.00       NaN       2.0  ...  15.86  20.86         NaN         NaN\n",
      "4       EKA9184  0.00       NaN       1.0  ...   0.00  18.64         NaN         NaN\n",
      "...         ...   ...       ...       ...  ...    ...    ...         ...         ...\n",
      "247477  FCT9210  0.00       NaN       2.0  ...   4.72   4.72         NaN         NaN\n",
      "247478  FCT9211  0.00  4.250000       2.0  ...   2.55   2.73         NaN         NaN\n",
      "247479  FCT9212  0.00       NaN       2.0  ...   2.64   2.64         NaN         NaN\n",
      "247480  FCT9213  0.25  9.956522       2.0  ...   0.32   0.32  621.779834         1.0\n",
      "247481  FCT9214  0.00       NaN       3.0  ...   0.02   0.02         NaN         NaN\n",
      "\n",
      "[247482 rows x 9 columns]\n"
     ]
    }
   ],
   "source": [
    "# Define tables and their corresponding fields\n",
    "tables = {\n",
    "    \"MBH\": [\"PageName\", \"MEAN\"],\n",
    "    \"BSF\": [\"PageName\", \"BSF\"],\n",
    "    \"PSF\": [\"PageName\", \"PSF\"],\n",
    "    \"TF\": [\"PageName\", \"TF\"],\n",
    "    \"GF\": [\"PageName\", \"GF\"],\n",
    "    \"majorland\": [\"PageName\", \"MAJORITY\"],\n",
    "    \"MBA\": [\"PageName\", \"MAX\"],\n",
    "    \"Build_SJ\": [\"PageName\", \"Join_Count\"],\n",
    "}\n",
    "\n",
    "# Loop through tables to create a dictionary of DataFrames\n",
    "dataframes = {}\n",
    "for table, fields in tables.items():\n",
    "    array = arcpy.da.TableToNumPyArray(table, fields)\n",
    "    dataframes[table] = pd.DataFrame(array)\n",
    "\n",
    "# Start merging with MBH_df as the base\n",
    "merged_df = dataframes[\"BSF\"]\n",
    "\n",
    "# List of DataFrames to merge\n",
    "merge_list = [\"MBH\", \"majorland\", \"TF\", \"GF\", \"PSF\", \"MBA\", \"Build_SJ\"]\n",
    "\n",
    "for df_name in merge_list:\n",
    "    merged_df = pd.merge(merged_df, dataframes[df_name], on=\"PageName\", how=\"left\")\n",
    "\n",
    "print(merged_df)"
   ]
  },
  {
   "cell_type": "code",
   "execution_count": 129,
   "metadata": {},
   "outputs": [],
   "source": [
    "merged_df.rename(columns={'MEAN': 'MBH','MAX': 'MBA','Join_Count': 'BC'}, inplace=True)\n",
    "merged_df.fillna({'MBH': 0, 'MBA': 0, 'BC': 0, 'MAJORITY' : 999}, inplace=True)\n",
    "merged_df['MAJORITY'] = merged_df['MAJORITY'].astype(int)\n",
    "merged_df.describe()"
   ]
  },
  {
   "cell_type": "code",
   "execution_count": 130,
   "metadata": {},
   "outputs": [
    {
     "data": {
      "text/html": [
       "<div>\n",
       "<style scoped>\n",
       "    .dataframe tbody tr th:only-of-type {\n",
       "        vertical-align: middle;\n",
       "    }\n",
       "\n",
       "    .dataframe tbody tr th {\n",
       "        vertical-align: top;\n",
       "    }\n",
       "\n",
       "    .dataframe thead th {\n",
       "        text-align: right;\n",
       "    }\n",
       "</style>\n",
       "<table border=\"1\" class=\"dataframe\">\n",
       "  <thead>\n",
       "    <tr style=\"text-align: right;\">\n",
       "      <th></th>\n",
       "      <th>BSF</th>\n",
       "      <th>MBH</th>\n",
       "      <th>MAJORITY</th>\n",
       "      <th>TF</th>\n",
       "      <th>GF</th>\n",
       "      <th>PSF</th>\n",
       "      <th>MBA</th>\n",
       "      <th>BC</th>\n",
       "    </tr>\n",
       "  </thead>\n",
       "  <tbody>\n",
       "    <tr>\n",
       "      <th>count</th>\n",
       "      <td>247482.000000</td>\n",
       "      <td>247482.000000</td>\n",
       "      <td>247482.000000</td>\n",
       "      <td>247482.000000</td>\n",
       "      <td>247482.000000</td>\n",
       "      <td>247482.000000</td>\n",
       "      <td>247482.000000</td>\n",
       "      <td>247482.000000</td>\n",
       "    </tr>\n",
       "    <tr>\n",
       "      <th>mean</th>\n",
       "      <td>4.307023</td>\n",
       "      <td>1.398880</td>\n",
       "      <td>2.276307</td>\n",
       "      <td>20.294933</td>\n",
       "      <td>50.403181</td>\n",
       "      <td>87.262256</td>\n",
       "      <td>381.830067</td>\n",
       "      <td>1.268521</td>\n",
       "    </tr>\n",
       "    <tr>\n",
       "      <th>std</th>\n",
       "      <td>9.890216</td>\n",
       "      <td>2.320739</td>\n",
       "      <td>4.671385</td>\n",
       "      <td>28.380857</td>\n",
       "      <td>37.504831</td>\n",
       "      <td>20.866797</td>\n",
       "      <td>3308.113013</td>\n",
       "      <td>3.271412</td>\n",
       "    </tr>\n",
       "    <tr>\n",
       "      <th>min</th>\n",
       "      <td>0.000000</td>\n",
       "      <td>0.000000</td>\n",
       "      <td>0.000000</td>\n",
       "      <td>0.000000</td>\n",
       "      <td>0.000000</td>\n",
       "      <td>0.000000</td>\n",
       "      <td>0.000000</td>\n",
       "      <td>0.000000</td>\n",
       "    </tr>\n",
       "    <tr>\n",
       "      <th>25%</th>\n",
       "      <td>0.000000</td>\n",
       "      <td>0.000000</td>\n",
       "      <td>2.000000</td>\n",
       "      <td>0.000000</td>\n",
       "      <td>12.430000</td>\n",
       "      <td>83.460000</td>\n",
       "      <td>0.000000</td>\n",
       "      <td>0.000000</td>\n",
       "    </tr>\n",
       "    <tr>\n",
       "      <th>50%</th>\n",
       "      <td>0.000000</td>\n",
       "      <td>0.000000</td>\n",
       "      <td>2.000000</td>\n",
       "      <td>5.310000</td>\n",
       "      <td>49.810000</td>\n",
       "      <td>99.050000</td>\n",
       "      <td>0.000000</td>\n",
       "      <td>0.000000</td>\n",
       "    </tr>\n",
       "    <tr>\n",
       "      <th>75%</th>\n",
       "      <td>2.490000</td>\n",
       "      <td>3.042448</td>\n",
       "      <td>2.000000</td>\n",
       "      <td>31.480000</td>\n",
       "      <td>89.500000</td>\n",
       "      <td>100.000000</td>\n",
       "      <td>58.129731</td>\n",
       "      <td>1.000000</td>\n",
       "    </tr>\n",
       "    <tr>\n",
       "      <th>max</th>\n",
       "      <td>100.000000</td>\n",
       "      <td>47.824468</td>\n",
       "      <td>999.000000</td>\n",
       "      <td>100.000000</td>\n",
       "      <td>100.000000</td>\n",
       "      <td>100.000000</td>\n",
       "      <td>104873.253931</td>\n",
       "      <td>36.000000</td>\n",
       "    </tr>\n",
       "  </tbody>\n",
       "</table>\n",
       "</div>"
      ],
      "text/plain": [
       "                 BSF            MBH  ...            MBA             BC\n",
       "count  247482.000000  247482.000000  ...  247482.000000  247482.000000\n",
       "mean        4.307023       1.398880  ...     381.830067       1.268521\n",
       "std         9.890216       2.320739  ...    3308.113013       3.271412\n",
       "min         0.000000       0.000000  ...       0.000000       0.000000\n",
       "25%         0.000000       0.000000  ...       0.000000       0.000000\n",
       "50%         0.000000       0.000000  ...       0.000000       0.000000\n",
       "75%         2.490000       3.042448  ...      58.129731       1.000000\n",
       "max       100.000000      47.824468  ...  104873.253931      36.000000\n",
       "\n",
       "[8 rows x 8 columns]"
      ]
     },
     "execution_count": 130,
     "metadata": {},
     "output_type": "execute_result"
    }
   ],
   "source": [
    "merged_df.describe()"
   ]
  },
  {
   "cell_type": "code",
   "execution_count": 131,
   "metadata": {},
   "outputs": [
    {
     "name": "stdout",
     "output_type": "stream",
     "text": [
      "\n",
      "Count of NaN values in each column:\n",
      "PageName    0\n",
      "BSF         0\n",
      "MBH         0\n",
      "MAJORITY    0\n",
      "TF          0\n",
      "GF          0\n",
      "PSF         0\n",
      "MBA         0\n",
      "BC          0\n",
      "dtype: int64\n"
     ]
    }
   ],
   "source": [
    "# Check to make sure all fields are valid\n",
    "nan_counts = merged_df.isna().sum()\n",
    "print(\"\\nCount of NaN values in each column:\")\n",
    "print(nan_counts)"
   ]
  },
  {
   "cell_type": "code",
   "execution_count": 133,
   "metadata": {},
   "outputs": [],
   "source": [
    "# Convert the merged DataFrame\n",
    "merged_array = np.array(np.rec.fromrecords(merged_df.values, names=merged_df.dtypes.index.tolist()))\n",
    "output_table = r\"C:\\Users\\Justin_Tse\\Documents\\ArcGIS\\Projects\\Denton_sensor\\Denton_sensor.gdb\\merged_table\"\n",
    "if arcpy.Exists(output_table):\n",
    "    arcpy.management.Delete(output_table)\n",
    "arcpy.da.NumPyArrayToTable(merged_array, output_table)"
   ]
  },
  {
   "cell_type": "code",
   "execution_count": 134,
   "metadata": {},
   "outputs": [],
   "source": [
    "# join the LCZ table\n",
    "arcpy.management.Copy(\"grid100M\", \"baseLCZ\")\n",
    "LCZ_joined_table = arcpy.management.AddJoin(\"baseLCZ\", \"PageName\", \"merged_table\", \"PageName\")"
   ]
  },
  {
   "cell_type": "code",
   "execution_count": 135,
   "metadata": {},
   "outputs": [
    {
     "data": {
      "text/html": [
       "<div class='gpresult'><h2>Messages</h2><div id='messages'>Start Time: Tuesday, October 22, 2024 10:06:14 PM<br>Succeeded at Tuesday, October 22, 2024 10:06:14 PM (Elapsed Time: 0.02 seconds)<br></div><div id = 'default' /></div></div>"
      ],
      "text/plain": [
       "<Result 'baseLCZ'>"
      ]
     },
     "execution_count": 135,
     "metadata": {},
     "output_type": "execute_result"
    }
   ],
   "source": [
    "# clean the null value\n",
    "expression = \"merged_table.BSF IS NOT NULL And merged_table.MBH IS NOT NULL And merged_table.MAJORITY IS NOT NULL And merged_table.TF IS NOT NULL And merged_table.MBA IS NOT NULL And merged_table.PSF IS NOT NULL\"\n",
    "arcpy.SelectLayerByAttribute_management(\"baseLCZ\", \"NEW_SELECTION\", expression)\n",
    "arcpy.CopyFeatures_management(\"baseLCZ\", \"baseLCZ_final\")\n",
    "arcpy.SelectLayerByAttribute_management(\"baseLCZ\", \"CLEAR_SELECTION\")"
   ]
  },
  {
   "cell_type": "code",
   "execution_count": 15,
   "metadata": {},
   "outputs": [
    {
     "data": {
      "text/html": [
       "<div class='gpresult'><h2>Messages</h2><div id='messages'>Start Time: Sunday, October 27, 2024 11:27:53 AM<br>Succeeded at Sunday, October 27, 2024 11:27:58 AM (Elapsed Time: 5.75 seconds)<br></div><div id = 'default' /></div></div>"
      ],
      "text/plain": [
       "<Result 'baseLCZ_final'>"
      ]
     },
     "execution_count": 15,
     "metadata": {},
     "output_type": "execute_result"
    }
   ],
   "source": [
    "# make sure no selection currenly exisits in the layer\n",
    "arcpy.SelectLayerByAttribute_management(\"baseLCZ_final\", \"CLEAR_SELECTION\")\n",
    "\n",
    "# Set up indicators and classify LCZ\n",
    "# if there is a lock error, turn off the layer before running this\n",
    "arcpy.management.AddField(\"baseLCZ_final\", \"LCZ\", \"text\", field_length=20)\n",
    "code_block = '''\n",
    "def classify_lcz(BSF, MBH, MAJORITY, TF, MBA, PSF, BC):\n",
    "    if 10 <= BSF <= 60 and MBH > 25 and MBA < 1500 or BC > 3 and MBH > 25 and MBA < 1500 and BSF > 0 or MAJORITY == 3 and MBH > 25 and MBA < 1500 and BSF > 0:\n",
    "        return \"LCZ 4\"  # Open high-rise\n",
    "    elif 10 <= BSF <= 60 and 10 < MBH <= 25 and MBA < 1500 or BC > 3 and 10 < MBH <= 25 and MBA < 1500 and BSF > 0 or MAJORITY == 3 and 10 < MBH <= 25 and MBA < 1500 and BSF > 10 or MAJORITY == 3 and 10 < MBH <= 25 and MBA < 1500 and BC >= 1 and BSF > 0:\n",
    "        return \"LCZ 5\"  # Open mid-rise\n",
    "    elif 10 <= BSF <= 60 and MBH <= 10 and MBA < 1500 and TF >= 25 or BC > 3 and MBH <= 10 and MBA < 1500 and TF >= 25 and BSF > 0 or MAJORITY == 3 and MBH <= 10 and TF >= 25 and MBA < 1500 and BSF > 10 or MAJORITY == 3 and MBH <= 10 and TF >= 25 and MBA < 1500 and BC >= 1 and BSF > 0:\n",
    "        return \"LCZ 6\"  # Open low-rise\n",
    "    elif 10 <= BSF <= 60 and MBH <= 10 and MBA < 1500 and TF < 25 or BC > 3 and MBH <= 10 and MBA < 1500 and TF < 25 and BSF > 0 or MAJORITY == 3 and MBH <= 10 and TF < 25 and MBA < 1500 and BSF > 10 or MAJORITY == 3 and MBH <= 10 and TF < 25 and MBA < 1500 and BC >= 1 and BSF > 0:\n",
    "        return \"LCZ 6D\"  # Open low-rise and low plants\n",
    "    elif MBA >= 1500 and MBH <= 15 or MAJORITY == 6 or MAJORITY == 8 and BC > 0 or MBA > 5000 or BSF > 60 or MAJORITY == 3 and MBH <= 15 and MBA >= 1500 and BSF > 10 or PSF <= 15:\n",
    "        return \"LCZ 8\"  # Large low-rise\n",
    "    elif BSF < 10 and MBH <= 10 and PSF >= 40 and 1<= BC <= 3:\n",
    "        return \"LCZ 9\"  # Sparsely built\n",
    "    elif MAJORITY == 1 and TF > 70 and BSF < 10 and BC <= 1 or MAJORITY == 1 and TF > 70 and BSF < 1:\n",
    "        return \"LCZ A\"  # Dense Trees\n",
    "    elif MAJORITY == 1 and TF < 70 and BSF < 10 and BC <= 1 or MAJORITY == 1 and TF < 70 and BSF < 1:\n",
    "        return \"LCZ B\"  # Scattered Trees\n",
    "    elif MAJORITY == 2 and BSF < 10 and BC <= 1 or MAJORITY == 2 and BSF < 1 or MAJORITY == 5 and BSF < 10 and BC < 1 or MAJORITY == 8 and BC == 0:\n",
    "        return \"LCZ D\"  # Low plants\n",
    "    elif MAJORITY == 3 and BSF < 10 and BC <= 1 or MAJORITY == 3 and BSF < 1:\n",
    "        return \"LCZ E\"  # Bare rock or paved\n",
    "    elif MAJORITY == 7 and BSF < 10 and BC <= 1 or MAJORITY == 7 and BSF < 1:\n",
    "        return \"LCZ F\"  # Bare soil or sand\n",
    "    elif MAJORITY == 4 and BSF < 10 and BC <= 1 or MAJORITY == 4 and BSF < 1:\n",
    "        return \"LCZ G\"  # Water\n",
    "    else:\n",
    "        return \"LCZ X\"  # Undefined LCZ\n",
    "'''\n",
    "\n",
    "arcpy.management.CalculateField(\"baseLCZ_final\", \"LCZ\", \"classify_lcz(!BSF!, !MBH!, !MAJORITY!, !TF!, !MBA!, !PSF!, !BC!)\", \"PYTHON3\", code_block)"
   ]
  },
  {
   "cell_type": "code",
   "execution_count": 9,
   "metadata": {
    "scrolled": true
   },
   "outputs": [
    {
     "data": {
      "text/html": [
       "<div class='gpresult'><h2>Messages</h2><div id='messages'>Start Time: Friday, October 25, 2024 11:50:15 AM<br>Succeeded at Friday, October 25, 2024 11:50:18 AM (Elapsed Time: 3.23 seconds)<br></div><div id = 'default' /></div></div>"
      ],
      "text/plain": [
       "<Result 'C:\\\\Users\\\\Justin_Tse\\\\Documents\\\\ArcGIS\\\\Projects\\\\Denton_sensor\\\\Denton_sensor.gdb\\\\LCZ_rast'>"
      ]
     },
     "execution_count": 9,
     "metadata": {},
     "output_type": "execute_result"
    }
   ],
   "source": [
    "arcpy.conversion.PolygonToRaster(\"BaseLCZ_final\", \"LCZ\", \n",
    "                                 \"LCZ_rast\", \"MAXIMUM_AREA\", \"\", 100, \"BUILD\")"
   ]
  },
  {
   "cell_type": "code",
   "execution_count": 189,
   "metadata": {},
   "outputs": [],
   "source": [
    "# apply majority filter\n",
    "outFocalStat = FocalStatistics(\"LCZ_rast\", NbrRectangle(3, 3, \"CELL\"), \n",
    "                               \"MAJORITY\", \"NODATA\")\n",
    "outFocalStat.save(\"outFocalStat\")"
   ]
  },
  {
   "cell_type": "code",
   "execution_count": 15,
   "metadata": {},
   "outputs": [
    {
     "data": {
      "text/html": [
       "<div class='gpresult'><h2>Messages</h2><div id='messages'>Start Time: Saturday, November 16, 2024 11:55:31 AM<br>Succeeded at Saturday, November 16, 2024 11:55:31 AM (Elapsed Time: 0.83 seconds)<br></div><div id = 'default' /></div></div>"
      ],
      "text/plain": [
       "<Result 'C:\\\\Users\\\\Justin_Tse\\\\Documents\\\\ArcGIS\\\\Projects\\\\Denton_sensor\\\\Denton_sensor.gdb\\\\LCZ_polygon'>"
      ]
     },
     "execution_count": 15,
     "metadata": {},
     "output_type": "execute_result"
    }
   ],
   "source": [
    "arcpy.conversion.RasterToPolygon(\"LCZ_filtered\", \"LCZ_polygon\", \"NO_SIMPLIFY\", \"Value\")"
   ]
  },
  {
   "cell_type": "code",
   "execution_count": 16,
   "metadata": {},
   "outputs": [
    {
     "data": {
      "text/html": [
       "<div class='gpresult'><h2>Messages</h2><div id='messages'>Start Time: Saturday, November 16, 2024 11:56:39 AM<br>Reading Features...<br>Cracking Features...<br>Assembling Features...<br>Eliminated 2064 feature(s)<br>Succeeded at Saturday, November 16, 2024 11:56:40 AM (Elapsed Time: 1.32 seconds)<br></div><div id = 'default' /></div></div>"
      ],
      "text/plain": [
       "<Result 'C:\\\\Users\\\\Justin_Tse\\\\Documents\\\\ArcGIS\\\\Projects\\\\Denton_sensor\\\\Denton_sensor.gdb\\\\LCZ_pol_eli'>"
      ]
     },
     "execution_count": 16,
     "metadata": {},
     "output_type": "execute_result"
    }
   ],
   "source": [
    "# eliminate isolated pixels\n",
    "arcpy.SelectLayerByAttribute_management(\"LCZ_polygon\", \"NEW_SELECTION\", \n",
    "                                        '\"Shape_Area\" <= 10000')\n",
    "arcpy.Eliminate_management(\"LCZ_polygon\", \"LCZ_pol_eli\", \n",
    "                           \"AREA\", '')"
   ]
  },
  {
   "cell_type": "markdown",
   "metadata": {},
   "source": [
    "Reference \"LCZ_filtered\" and assign LCZ value to each gridcode. Gridcode 7 needs to be manully corrected since it is unclassified zone"
   ]
  },
  {
   "cell_type": "code",
   "execution_count": 31,
   "metadata": {},
   "outputs": [
    {
     "data": {
      "text/html": [
       "<div class='gpresult'><h2>Messages</h2><div id='messages'>Start Time: Saturday, November 16, 2024 12:57:10 PM<br>Adding Classvalue to LCZ_pol_eli...<br>Succeeded at Saturday, November 16, 2024 12:57:10 PM (Elapsed Time: 0.46 seconds)<br></div><div id = 'default' /></div></div>"
      ],
      "text/plain": [
       "<Result 'LCZ_pol_eli'>"
      ]
     },
     "execution_count": 31,
     "metadata": {},
     "output_type": "execute_result"
    }
   ],
   "source": [
    "# add a new LCZ field to the new fc\n",
    "arcpy.management.AddField(\"LCZ_pol_eli\", \"Classvalue\", \"text\", field_length=20)"
   ]
  },
  {
   "cell_type": "code",
   "execution_count": 32,
   "metadata": {},
   "outputs": [
    {
     "data": {
      "text/html": [
       "<div class='gpresult'><h2>Messages</h2><div id='messages'>Start Time: Saturday, November 16, 2024 12:57:26 PM<br>Succeeded at Saturday, November 16, 2024 12:57:26 PM (Elapsed Time: 0.08 seconds)<br></div><div id = 'default' /></div></div>"
      ],
      "text/plain": [
       "<Result 'LCZ_pol_eli'>"
      ]
     },
     "execution_count": 32,
     "metadata": {},
     "output_type": "execute_result"
    }
   ],
   "source": [
    "# Assign LCZ code\n",
    "expression = \"gridcode = 1\"\n",
    "arcpy.SelectLayerByAttribute_management(\"LCZ_pol_eli\", \"NEW_SELECTION\", expression)\n",
    "arcpy.management.CalculateField(\"LCZ_pol_eli\", \"Classvalue\", '\"8\"', \"PYTHON3\") #LCZ 8\n",
    "\n",
    "expression = \"gridcode = 2\"\n",
    "arcpy.SelectLayerByAttribute_management(\"LCZ_pol_eli\", \"NEW_SELECTION\", expression)\n",
    "arcpy.management.CalculateField(\"LCZ_pol_eli\", \"Classvalue\", '\"12\"', \"PYTHON3\") #LCZ B\n",
    "\n",
    "expression = \"gridcode = 3\"\n",
    "arcpy.SelectLayerByAttribute_management(\"LCZ_pol_eli\", \"NEW_SELECTION\", expression)\n",
    "arcpy.management.CalculateField(\"LCZ_pol_eli\", \"Classvalue\", '\"14\"', \"PYTHON3\") #LCZ D\n",
    "\n",
    "expression = \"gridcode = 4\"\n",
    "arcpy.SelectLayerByAttribute_management(\"LCZ_pol_eli\", \"NEW_SELECTION\", expression)\n",
    "arcpy.management.CalculateField(\"LCZ_pol_eli\", \"Classvalue\", '\"11\"', \"PYTHON3\") #LCZ A\n",
    "\n",
    "expression = \"gridcode = 5\"\n",
    "arcpy.SelectLayerByAttribute_management(\"LCZ_pol_eli\", \"NEW_SELECTION\", expression)\n",
    "arcpy.management.CalculateField(\"LCZ_pol_eli\", \"Classvalue\", '\"17\"', \"PYTHON3\") #LCZ G\n",
    "\n",
    "expression = \"gridcode = 6\"\n",
    "arcpy.SelectLayerByAttribute_management(\"LCZ_pol_eli\", \"NEW_SELECTION\", expression)\n",
    "arcpy.management.CalculateField(\"LCZ_pol_eli\", \"Classvalue\", '\"9\"', \"PYTHON3\") #LCZ 9\n",
    "\n",
    "expression = \"gridcode = 7\"\n",
    "arcpy.SelectLayerByAttribute_management(\"LCZ_pol_eli\", \"NEW_SELECTION\", expression)\n",
    "arcpy.management.CalculateField(\"LCZ_pol_eli\", \"Classvalue\", '\"14\"', \"PYTHON3\") #LCZ D\n",
    "\n",
    "expression = \"gridcode = 8\" # this is actually 6D, we will assign 6 for accuarcy assessment\n",
    "arcpy.SelectLayerByAttribute_management(\"LCZ_pol_eli\", \"NEW_SELECTION\", expression)\n",
    "arcpy.management.CalculateField(\"LCZ_pol_eli\", \"Classvalue\", '\"6\"', \"PYTHON3\") #LCZ 6\n",
    "\n",
    "expression = \"gridcode = 9\"\n",
    "arcpy.SelectLayerByAttribute_management(\"LCZ_pol_eli\", \"NEW_SELECTION\", expression)\n",
    "arcpy.management.CalculateField(\"LCZ_pol_eli\", \"Classvalue\", '\"6\"', \"PYTHON3\") #LCZ 6\n",
    "\n",
    "expression = \"gridcode = 10\"\n",
    "arcpy.SelectLayerByAttribute_management(\"LCZ_pol_eli\", \"NEW_SELECTION\", expression)\n",
    "arcpy.management.CalculateField(\"LCZ_pol_eli\", \"Classvalue\", '\"15\"', \"PYTHON3\") #LCZ E\n",
    "\n",
    "expression = \"gridcode = 11\"\n",
    "arcpy.SelectLayerByAttribute_management(\"LCZ_pol_eli\", \"NEW_SELECTION\", expression)\n",
    "arcpy.management.CalculateField(\"LCZ_pol_eli\", \"Classvalue\", '\"16\"', \"PYTHON3\") #LCZ F\n",
    "\n",
    "expression = \"gridcode = 12\"\n",
    "arcpy.SelectLayerByAttribute_management(\"LCZ_pol_eli\", \"NEW_SELECTION\", expression)\n",
    "arcpy.management.CalculateField(\"LCZ_pol_eli\", \"Classvalue\", '\"5\"', \"PYTHON3\") #LCZ 5\n",
    "arcpy.SelectLayerByAttribute_management(\"LCZ_pol_eli\", \"CLEAR_SELECTION\")"
   ]
  },
  {
   "cell_type": "code",
   "execution_count": 44,
   "metadata": {},
   "outputs": [
    {
     "data": {
      "text/html": [
       "<div class='gpresult'><h2>Messages</h2><div id='messages'>Start Time: Saturday, November 16, 2024 1:11:04 PM<br>Succeeded at Saturday, November 16, 2024 1:11:07 PM (Elapsed Time: 2.21 seconds)<br></div><div id = 'default' /></div></div>"
      ],
      "text/plain": [
       "<Result 'C:\\\\Users\\\\Justin_Tse\\\\Documents\\\\ArcGIS\\\\Projects\\\\Denton_sensor\\\\Denton_sensor.gdb\\\\newLCZ_Denton'>"
      ]
     },
     "execution_count": 44,
     "metadata": {},
     "output_type": "execute_result"
    }
   ],
   "source": [
    "arcpy.conversion.PolygonToRaster(\"LCZ_pol_eli\", \"Classvalue\", \n",
    "                                 \"newLCZ_Denton\", \n",
    "                                 \"MAXIMUM_AREA\", \"\", 100)"
   ]
  },
  {
   "cell_type": "markdown",
   "metadata": {},
   "source": [
    "## Accuracy Assessment\n",
    "Manually define ground truth value based on high resolution imagery"
   ]
  },
  {
   "cell_type": "markdown",
   "metadata": {},
   "source": [
    "- 5 # open midrise"
    "- 6 # Open low rise\n",
    "- 8 #Large lowrise\n",
    "- 9 # sparsely built\n",
    "- 11 # Dense trees\n",
    "- 12 # Scattered trees\n",
    "- 14 # Low plants\n",
    "- 15 # bare rock or paved\n",
    "- 16 # bare soil or sand\n",
    "- 17 # water\n",
    "- 18 # Open low rise + low plants\n",
   ]
  },
  {
   "cell_type": "code",
   "execution_count": 45,
   "metadata": {},
   "outputs": [
    {
     "data": {
      "text/html": [
       "<div class='gpresult'><h2>Messages</h2><div id='messages'>Start Time: Saturday, November 16, 2024 1:16:36 PM<br>Succeeded at Saturday, November 16, 2024 1:16:37 PM (Elapsed Time: 0.80 seconds)<br></div><div id = 'default' /></div></div>"
      ],
      "text/plain": [
       "<Result 'newLCZ_Denton'>"
      ]
     },
     "execution_count": 45,
     "metadata": {},
     "output_type": "execute_result"
    }
   ],
   "source": [
    "arcpy.management.DeleteField(\"newLCZ_Denton\", \"Classvalue\")"
   ]
  },
  {
   "cell_type": "code",
   "execution_count": 46,
   "metadata": {
    "scrolled": true
   },
   "outputs": [
    {
     "data": {
      "text/html": [
       "<div class='gpresult'><h2>Messages</h2><div id='messages'>Start Time: Saturday, November 16, 2024 1:16:43 PM<br>Succeeded at Saturday, November 16, 2024 1:16:44 PM (Elapsed Time: 0.78 seconds)<br></div><div id = 'default' /></div></div>"
      ],
      "text/plain": [
       "<geoprocessing server result object object at 0x000002C74C9C3000>"
      ]
     },
     "execution_count": 46,
     "metadata": {},
     "output_type": "execute_result"
    }
   ],
   "source": [
    "CreateAccuracyAssessmentPoints(\"newLCZ_Denton\", \"survey_pts\", \"CLASSIFIED\", \"100\", \"STRATIFIED_RANDOM\", \"\")"
   ]
  },
  {
   "cell_type": "code",
   "execution_count": 11,
   "metadata": {
    "scrolled": true
   },
   "outputs": [
    {
     "data": {
      "text/html": [
       "<div class='gpresult'><h2>Messages</h2><div id='messages'>Start Time: Saturday, November 16, 2024 4:15:23 PM<br>IoU = {[C_1]: 0.4375, [C_2]: 0.7797, [C_3]: 0.5625, [C_4]: 0.6923, [C_5]: 0.9091, [C_6]: 0.7500, [C_7]: 0.3000, [C_8]: 0.9000, [C_9]: 0.7500, [C_10]: 0.6000}<br>Succeeded at Saturday, November 16, 2024 4:15:23 PM (Elapsed Time: 0.23 seconds)<br></div><div id = 'default' /></div></div>"
      ],
      "text/plain": [
       "<geoprocessing server result object object at 0x00000168386D3690>"
      ]
     },
     "execution_count": 11,
     "metadata": {},
     "output_type": "execute_result"
    }
   ],
   "source": [
    "ComputeConfusionMatrix(\"survey_pts\", \"GIS_matrix\")"
   ]
  },
  {
   "cell_type": "code",
   "execution_count": 33,
   "metadata": {},
   "outputs": [
    {
     "data": {
      "text/html": [
       "<div class='gpresult'><h2>Messages</h2><div id='messages'>Start Time: Sunday, November 17, 2024 2:41:57 PM<br>Succeeded at Sunday, November 17, 2024 2:41:58 PM (Elapsed Time: 1.85 seconds)<br></div><div id = 'default' /></div></div>"
      ],
      "text/plain": [
       "<geoprocessing server result object object at 0x00000168394D2490>"
      ]
     },
     "execution_count": 33,
     "metadata": {},
     "output_type": "execute_result"
    }
   ],
   "source": [
    "# update the classified column using WUDAPT LCZ raster\n",
    "UpdateAccuracyAssessmentPoints(r\"C:\\Users\\Justin_Tse\\Desktop\\LCZ__Denton\\LCZ__Denton.tif\", \"survey_pts\", \"survey_pts_rs\", \"CLASSIFIED\")"
   ]
  },
  {
   "cell_type": "code",
   "execution_count": 34,
   "metadata": {},
   "outputs": [
    {
     "data": {
      "text/html": [
       "<div class='gpresult'><h2>Messages</h2><div id='messages'>Start Time: Sunday, November 17, 2024 2:44:21 PM<br>Succeeded at Sunday, November 17, 2024 2:44:21 PM (Elapsed Time: 0.34 seconds)<br></div><div id = 'default' /></div></div>"
      ],
      "text/plain": [
       "<Result 'survey_pts_rs'>"
      ]
     },
     "execution_count": 34,
     "metadata": {},
     "output_type": "execute_result"
    }
   ],
   "source": [
    "# reclass the value so that it is comparable\n",
    "feature_class = \"survey_pts_rs\"\n",
    "field_name = \"Classified\"\n",
    "expression = \"map_classified(!Classified!)\"\n",
    "\n",
    "arcpy.management.CalculateField(feature_class, field_name, expression, \"PYTHON3\", code_block=\"\"\"\n",
    "\n",
    "def map_classified(classified_value):\n",
    "    mapping = {\n",
    "        12: 1,   # Scattered trees\n",
    "        14: 2,   # Low plants\n",
    "        8: 3,    # Large lowrise\n",
    "        9: 4,    # Sparsely built\n",
    "        17: 5,   # Water\n",
    "        11: 6,   # Dense trees\n",
    "        16: 7,   # Bare soil or sand\n",
    "        15: 8,   # Bare rock or paved\n",
    "        6: 9,    # Open low rise\n",
    "        5: 10    # Open midrise\n",
    "    }\n",
    "    return mapping.get(classified_value, classified_value)\n",
    "\"\"\")"
   ]
  },
  {
   "cell_type": "code",
   "execution_count": 35,
   "metadata": {},
   "outputs": [
    {
     "data": {
      "text/html": [
       "<div class='gpresult'><h2>Messages</h2><div id='messages'>Start Time: Sunday, November 17, 2024 2:44:32 PM<br>IoU = {[C_1]: 0.1579, [C_2]: 0.5811, [C_3]: 0.0741, [C_4]: 0.0000, [C_5]: 0.8333, [C_6]: 0.1429, [C_7]: 0.0000, [C_8]: 0.0000, [C_9]: 0.3125, [C_10]: 0.0000}<br>Succeeded at Sunday, November 17, 2024 2:44:32 PM (Elapsed Time: 0.23 seconds)<br></div><div id = 'default' /></div></div>"
      ],
      "text/plain": [
       "<geoprocessing server result object object at 0x00000168394D34E0>"
      ]
     },
     "execution_count": 35,
     "metadata": {},
     "output_type": "execute_result"
    }
   ],
   "source": [
    "ComputeConfusionMatrix(\"survey_pts_rs\", \"RS_matrix\")"
   ]
  },
  {
   "cell_type": "markdown",
   "metadata": {},
   "source": [
    "## Examine the building properties"
   ]
  },
  {
   "cell_type": "code",
   "execution_count": 41,
   "metadata": {},
   "outputs": [],
   "source": [
    "import pandas as pd\n",
    "import seaborn as sns\n",
    "import matplotlib.pyplot as plt"
   ]
  },
  {
   "cell_type": "code",
   "execution_count": 59,
   "metadata": {},
   "outputs": [],
   "source": [
    "fields = {\n",
    "    'BSF': 'Building Surface Fraction (%)',\n",
    "    'MBH': 'Mean Building Height (m)',\n",
    "    'TF': 'Tree Surface Fraction (%)',\n",
    "    'PSF': 'Pervious Surface Fraction (%)',\n",
    "    'MBA': 'Maximum Building Footprint (m²)',\n",
    "    'BC': 'Number of Building'\n",
    "}\n",
    "\n",
    "df['LCZ'] = df['LCZ'].astype(int)\n",
    "df = df.sort_values(by='LCZ')\n",
    "\n",
    "# Define custom colors for each LCZ category\n",
    "custom_palette = {\n",
    "    5: '#FF0000',  # Open midrise\n",
    "    6: '#FF9955',  # Open low rise\n",
    "    8: '#BCBCBC',  # Large lowrise\n",
    "    9: '#FFCCAA'   # Sparsely built\n",
    "}\n",
    "\n",
    "plt.figure(figsize=(15, 8))\n",
    "\n",
    "# Iterate over fields to create individual subplots\n",
    "for i, (field, title) in enumerate(fields.items(), start=1):\n",
    "    plt.subplot(2, 3, i) \n",
    "    ax = sns.boxplot(\n",
    "        data=df,\n",
    "        x='LCZ',\n",
    "        y=field,\n",
    "        order=sorted(df['LCZ'].unique()),\n",
    "        palette=custom_palette,\n",
    "        flierprops={\"marker\": \"o\", \"markerfacecolor\": \"none\", \"markeredgecolor\": \"black\"}  \n",
    "    )\n",
    "    \n",
    "    # Add the \"LCZ\" prefix to x-axis labels\n",
    "    ax.set_xticklabels([f\"LCZ {int(x)}\" for x in sorted(df['LCZ'].unique())])\n",
    "    \n",
    "    plt.title(title, fontsize=14, fontweight='bold')\n",
    "    ax.set_xlabel('')\n",
    "    ax.set_ylabel('')\n",
    "    ax.tick_params(left=False, bottom=False)\n",
    "    \n",
    "plt.tight_layout()\n",
    "plt.show()"
   ]
  },
  {
   "cell_type": "markdown",
   "metadata": {},
   "source": [
    "## LST Analysis\n",
    "Another way to evaluate the performance is through examining their themral property. Here I only visualize the value distributions in each LCZ class. A more robust analysis would require statistical analysis of the intra and inter-zonal variability"
   ]
  },
  {
   "cell_type": "code",
   "execution_count": null,
   "metadata": {},
   "outputs": [],
   "source": [
    "# Input your LST raster here\n",
    "dayLST = r\"C:\\Users\\Justin_Tse\\Desktop\\MODIS_LST\\meanDayLST_DT.tif\"\n",
    "nightLST = r\"C:\\Users\\Justin_Tse\\Desktop\\MODIS_LST\\meanDayLST_DT.tif\""
   ]
  },
  {
   "cell_type": "code",
   "execution_count": 65,
   "metadata": {},
   "outputs": [
    {
     "data": {
      "text/html": [
       "<div class='gpresult'><h2>Messages</h2><div id='messages'>Start Time: Wednesday, November 20, 2024 9:33:46 PM<br>Spatial reference wkid and wkt for sample table samptable are [26914, PROJCS[\\<br>NAD_1983_UTM_Zone_14N\\<br>,GEOGCS[\\<br>GCS_North_American_1983\\<br>,DATUM[\\<br>D_North_American_1983\\<br>,SPHEROID[\\<br>GRS_1980\\<br>,6378137.0,298.257222101]],PRIMEM[\\<br>Greenwich\\<br>,0.0],UNIT[\\<br>Degree\\<br>,0.0174532925199433]],PROJECTION[\\<br>Transverse_Mercator\\<br>],PARAMETER[\\<br>False_Easting\\<br>,500000.0],PARAMETER[\\<br>False_Northing\\<br>,0.0],PARAMETER[\\<br>Central_Meridian\\<br>,-99.0],PARAMETER[\\<br>Scale_Factor\\<br>,0.9996],PARAMETER[\\<br>Latitude_Of_Origin\\<br>,0.0],UNIT[\\<br>Meter\\<br>,1.0],AUTHORITY[\\<br>EPSG\\<br>,26914]]].<br>Succeeded at Wednesday, November 20, 2024 9:33:47 PM (Elapsed Time: 0.64 seconds)<br></div><div id = 'default' /></div></div>"
      ],
      "text/plain": [
       "<geoprocessing server result object object at 0x00000169A5A5D8F0>"
      ]
     },
     "execution_count": 65,
     "metadata": {},
     "output_type": "execute_result"
    }
   ],
   "source": [
    "Sample([dayLST, nightLST], \"survey_pts\",\n",
    "       \"samptable\",\"NEAREST\",\"OBJECTID\")"
   ]
  },
  {
   "cell_type": "code",
   "execution_count": 132,
   "metadata": {},
   "outputs": [],
   "source": [
    "df = table_to_df(\"samptable\")\n",
    "LST = df[[\"OBJECTID\", \"meanDayLST_DT_LSTD_C\",\"meanNigLST_DT_LSTN_C\"]]\n",
    "GIS_pts = table_to_df(\"survey_pts\")\n",
    "RS_pts = table_to_df(\"survey_pts_rs\")"
   ]
  },
  {
   "cell_type": "code",
   "execution_count": 133,
   "metadata": {},
   "outputs": [
    {
     "data": {
      "text/plain": [
       "Classified\n",
       "2    67\n",
       "9    22\n",
       "4    14\n",
       "3    14\n",
       "5    11\n",
       "1     9\n",
       "7     8\n",
       "6     5\n",
       "Name: count, dtype: int64"
      ]
     },
     "execution_count": 133,
     "metadata": {},
     "output_type": "execute_result"
    }
   ],
   "source": [
    "RS_pts[\"Classified\"].value_counts()"
   ]
  },
  {
   "cell_type": "code",
   "execution_count": 134,
   "metadata": {},
   "outputs": [
    {
     "data": {
      "text/plain": [
       "Classified\n",
       "2     55\n",
       "9     15\n",
       "6     10\n",
       "8     10\n",
       "5     10\n",
       "7     10\n",
       "4     10\n",
       "1     10\n",
       "10    10\n",
       "3     10\n",
       "Name: count, dtype: int64"
      ]
     },
     "execution_count": 134,
     "metadata": {},
     "output_type": "execute_result"
    }
   ],
   "source": [
    "GIS_pts[\"Classified\"].value_counts()"
   ]
  },
  {
   "cell_type": "code",
   "execution_count": 135,
   "metadata": {},
   "outputs": [],
   "source": [
    "GIS_pts.rename(columns={\"Classified\": \"GIS-Based\"}, inplace=True)\n",
    "RS_pts.rename(columns={\"Classified\": \"WUDAPT\"}, inplace=True)\n",
    "pts_merged = GIS_pts.merge(RS_pts, on=\"OBJECTID\", how=\"left\")\n",
    "pts_merged_LST = pts_merged.merge(LST, on=\"OBJECTID\", how=\"left\")"
   ]
  },
  {
   "cell_type": "code",
   "execution_count": 137,
   "metadata": {},
   "outputs": [],
   "source": [
    "# Define the mapping dictionary\n",
    "value_mapping = {\n",
    "    1: \"B\", 2: \"D\", 3: \"8\", 4: \"9\", 5: \"G\", \n",
    "    6: \"A\", 7: \"F\", 8: \"E\", 9: \"6\", 10: \"5\"\n",
    "}\n",
    "\n",
    "pts_merged_LST[\"GIS-Based\"] = pts_merged_LST[\"GIS-Based\"].map(value_mapping)\n",
    "pts_merged_LST[\"WUDAPT\"] = pts_merged_LST[\"WUDAPT\"].map(value_mapping)"
   ]
  },
  {
   "cell_type": "code",
   "execution_count": 141,
   "metadata": {},
   "outputs": [],
   "source": [
    "# Removed LCZ 5 & E since they don't exist in the wudapt\n",
    "pts_merged_LST = pts_merged_LST[~pts_merged_LST[\"GIS-Based\"].isin([\"5\", \"E\"])]"
   ]
  },
  {
   "cell_type": "code",
   "execution_count": 142,
   "metadata": {},
   "outputs": [],
   "source": [
    "melted_day = pd.melt(\n",
    "    pts_merged_LST,\n",
    "    id_vars=[\"OBJECTID\", \"meanDayLST_DT_LSTD_C\"],\n",
    "    value_vars=[\"GIS-Based\", \"WUDAPT\"],\n",
    "    var_name=\"Type\",\n",
    "    value_name=\"Classified\"\n",
    ")\n",
    "\n",
    "melted_night = pd.melt(\n",
    "    pts_merged_LST,\n",
    "    id_vars=[\"OBJECTID\", \"meanNigLST_DT_LSTN_C\"],\n",
    "    value_vars=[\"GIS-Based\", \"WUDAPT\"],\n",
    "    var_name=\"Type\",\n",
    "    value_name=\"Classified\"\n",
    ")"
   ]
  },
  {
   "cell_type": "code",
   "execution_count": 153,
   "metadata": {},
   "outputs": [],
   "source": [
    "fig, axes = plt.subplots(1, 2, figsize=(12, 6), sharey=False)\n",
    "flierprops = dict(marker='o', markerfacecolor='none', markeredgecolor='red', markersize=7)\n",
    "\n",
    "# Boxplot for daytime LST\n",
    "sns.boxplot(\n",
    "    data=melted_day,\n",
    "    x=\"Classified\",\n",
    "    y=\"meanDayLST_DT_LSTD_C\",\n",
    "    hue=\"Type\",\n",
    "    ax=axes[0],\n",
    "    palette=[\"#BCD4DE\", \"#949BA0\"],\n",
    "    flierprops=flierprops\n",
    ")\n",
    "axes[0].set_title(\"Daytime LST\", fontsize=16)\n",
    "axes[0].set_xlabel(\"LCZ\",  fontsize = 12)\n",
    "axes[0].set_ylabel(\"Land Surface Temperature (°C)\", fontsize = 12)\n",
    "axes[0].legend(title=\"Type\")\n",
    "axes[0].tick_params(axis='both', which='major', labelsize=12)\n",
    "\n",
    "# Boxplot for Nighttime LST\n",
    "sns.boxplot(\n",
    "    data=melted_night,\n",
    "    x=\"Classified\",\n",
    "    y=\"meanNigLST_DT_LSTN_C\",\n",
    "    hue=\"Type\",\n",
    "    ax=axes[1],\n",
    "    palette=[\"#BCD4DE\", \"#949BA0\"],\n",
    "    flierprops=flierprops\n",
    ")\n",
    "axes[1].set_title(\"Nighttime LST\", fontsize=16)\n",
    "axes[1].set_xlabel(\"LCZ\",  fontsize = 12)\n",
    "axes[1].set_ylabel(\"Land Surface Temperature (°C)\", fontsize = 12)\n",
    "axes[1].legend(title=\"Type\")\n",
    "axes[1].tick_params(axis='both', which='major', labelsize=12)\n",
    "\n",
    "plt.tight_layout()\n",
    "plt.show()"
   ]
  },
  {
   "cell_type": "code",
   "execution_count": null,
   "metadata": {},
   "outputs": [],
   "source": []
  }
 ],
 "metadata": {
  "kernelspec": {
   "display_name": "ArcGISPro",
   "language": "Python",
   "name": "python3"
  },
  "language_info": {
   "file_extension": ".py",
   "name": "python",
   "version": "3"
  }
 },
 "nbformat": 4,
 "nbformat_minor": 2
}
